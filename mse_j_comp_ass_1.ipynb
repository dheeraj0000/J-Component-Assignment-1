{
  "nbformat": 4,
  "nbformat_minor": 0,
  "metadata": {
    "colab": {
      "provenance": []
    },
    "kernelspec": {
      "name": "python3",
      "display_name": "Python 3"
    },
    "language_info": {
      "name": "python"
    }
  },
  "cells": [
    {
      "cell_type": "code",
      "execution_count": null,
      "metadata": {
        "id": "c--kAFCr69gw"
      },
      "outputs": [],
      "source": [
        "import pandas as pd \n",
        "d1=pd.read_csv('Salary_Data.csv')\n",
        "#print(d)\n",
        "import numpy as np\n",
        "y = d1['YearsExperience']\n",
        "x=d1['Salary']\n",
        "summation = 0  \n",
        "n = len(y)\n",
        "#for i in range(0,1000):\n",
        "yp=[]\n",
        "def mse(b0,b1):\n",
        "  for i in range (0,n):\n",
        "    y_bar =(b1*x[i])+b0\n",
        "    dif =(y[i]-y_bar)**2 \n",
        "    yp.append(dif)\n",
        "  ypp=np.array(yp)\n",
        "  MSE = np.mean(ypp)\n",
        "  print(\"The Mean Square Error for b0=\",b0,\"b1=\", b1,\"is: \",MSE)"
      ]
    },
    {
      "cell_type": "code",
      "source": [
        "for i in range(0,100):\n",
        "      mse(i,i+1)"
      ],
      "metadata": {
        "colab": {
          "base_uri": "https://localhost:8080/"
        },
        "id": "YvSMZACg7Ghj",
        "outputId": "2a1c99a0-60d4-4445-a36c-6dc37aae3748"
      },
      "execution_count": null,
      "outputs": [
        {
          "output_type": "stream",
          "name": "stdout",
          "text": [
            "The Mean Square Error for b0= 0 b1= 1 is:  6502000509.35\n",
            "The Mean Square Error for b0= 1 b1= 2 is:  16256108017.936666\n",
            "The Mean Square Error for b0= 2 b1= 3 is:  30345620378.34555\n",
            "The Mean Square Error for b0= 3 b1= 4 is:  48770537590.57667\n",
            "The Mean Square Error for b0= 4 b1= 5 is:  71530859654.63\n",
            "The Mean Square Error for b0= 5 b1= 6 is:  98626586570.50555\n",
            "The Mean Square Error for b0= 6 b1= 7 is:  130057718338.20335\n",
            "The Mean Square Error for b0= 7 b1= 8 is:  165824254957.72333\n",
            "The Mean Square Error for b0= 8 b1= 9 is:  205926196429.06558\n",
            "The Mean Square Error for b0= 9 b1= 10 is:  250363542752.23\n",
            "The Mean Square Error for b0= 10 b1= 11 is:  299136293927.2167\n",
            "The Mean Square Error for b0= 11 b1= 12 is:  352244449954.0255\n",
            "The Mean Square Error for b0= 12 b1= 13 is:  409688010832.65674\n",
            "The Mean Square Error for b0= 13 b1= 14 is:  471466976563.11005\n",
            "The Mean Square Error for b0= 14 b1= 15 is:  537581347145.3856\n",
            "The Mean Square Error for b0= 15 b1= 16 is:  608031122579.4833\n",
            "The Mean Square Error for b0= 16 b1= 17 is:  682816302865.4033\n",
            "The Mean Square Error for b0= 17 b1= 18 is:  761936888003.1456\n",
            "The Mean Square Error for b0= 18 b1= 19 is:  845392877992.7101\n",
            "The Mean Square Error for b0= 19 b1= 20 is:  933184272834.0968\n",
            "The Mean Square Error for b0= 20 b1= 21 is:  1025311072527.3055\n",
            "The Mean Square Error for b0= 21 b1= 22 is:  1121773277072.3367\n",
            "The Mean Square Error for b0= 22 b1= 23 is:  1222570886469.19\n",
            "The Mean Square Error for b0= 23 b1= 24 is:  1327703900717.8657\n",
            "The Mean Square Error for b0= 24 b1= 25 is:  1437172319818.3633\n",
            "The Mean Square Error for b0= 25 b1= 26 is:  1550976143770.6833\n",
            "The Mean Square Error for b0= 26 b1= 27 is:  1669115372574.8257\n",
            "The Mean Square Error for b0= 27 b1= 28 is:  1791590006230.7898\n",
            "The Mean Square Error for b0= 28 b1= 29 is:  1918400044738.5767\n",
            "The Mean Square Error for b0= 29 b1= 30 is:  2049545488098.1855\n",
            "The Mean Square Error for b0= 30 b1= 31 is:  2185026336309.6165\n",
            "The Mean Square Error for b0= 31 b1= 32 is:  2324842589372.87\n",
            "The Mean Square Error for b0= 32 b1= 33 is:  2468994247287.9453\n",
            "The Mean Square Error for b0= 33 b1= 34 is:  2617481310054.8438\n",
            "The Mean Square Error for b0= 34 b1= 35 is:  2770303777673.564\n",
            "The Mean Square Error for b0= 35 b1= 36 is:  2927461650144.106\n",
            "The Mean Square Error for b0= 36 b1= 37 is:  3088954927466.47\n",
            "The Mean Square Error for b0= 37 b1= 38 is:  3254783609640.6567\n",
            "The Mean Square Error for b0= 38 b1= 39 is:  3424947696666.666\n",
            "The Mean Square Error for b0= 39 b1= 40 is:  3599447188544.4966\n",
            "The Mean Square Error for b0= 40 b1= 41 is:  3778282085274.1494\n",
            "The Mean Square Error for b0= 41 b1= 42 is:  3961452386855.6255\n",
            "The Mean Square Error for b0= 42 b1= 43 is:  4148958093288.924\n",
            "The Mean Square Error for b0= 43 b1= 44 is:  4340799204574.0425\n",
            "The Mean Square Error for b0= 44 b1= 45 is:  4536975720710.985\n",
            "The Mean Square Error for b0= 45 b1= 46 is:  4737487641699.75\n",
            "The Mean Square Error for b0= 46 b1= 47 is:  4942334967540.337\n",
            "The Mean Square Error for b0= 47 b1= 48 is:  5151517698232.745\n",
            "The Mean Square Error for b0= 48 b1= 49 is:  5365035833776.977\n",
            "The Mean Square Error for b0= 49 b1= 50 is:  5582889374173.03\n",
            "The Mean Square Error for b0= 50 b1= 51 is:  5805078319420.906\n",
            "The Mean Square Error for b0= 51 b1= 52 is:  6031602669520.603\n",
            "The Mean Square Error for b0= 52 b1= 53 is:  6262462424472.123\n",
            "The Mean Square Error for b0= 53 b1= 54 is:  6497657584275.467\n",
            "The Mean Square Error for b0= 54 b1= 55 is:  6737188148930.63\n",
            "The Mean Square Error for b0= 55 b1= 56 is:  6981054118437.616\n",
            "The Mean Square Error for b0= 56 b1= 57 is:  7229255492796.426\n",
            "The Mean Square Error for b0= 57 b1= 58 is:  7481792272007.055\n",
            "The Mean Square Error for b0= 58 b1= 59 is:  7738664456069.51\n",
            "The Mean Square Error for b0= 59 b1= 60 is:  7999872044983.785\n",
            "The Mean Square Error for b0= 60 b1= 61 is:  8265415038749.884\n",
            "The Mean Square Error for b0= 61 b1= 62 is:  8535293437367.804\n",
            "The Mean Square Error for b0= 62 b1= 63 is:  8809507240837.545\n",
            "The Mean Square Error for b0= 63 b1= 64 is:  9088056449159.111\n",
            "The Mean Square Error for b0= 64 b1= 65 is:  9370941062332.498\n",
            "The Mean Square Error for b0= 65 b1= 66 is:  9658161080357.705\n",
            "The Mean Square Error for b0= 66 b1= 67 is:  9949716503234.738\n",
            "The Mean Square Error for b0= 67 b1= 68 is:  10245607330963.588\n",
            "The Mean Square Error for b0= 68 b1= 69 is:  10545833563544.266\n",
            "The Mean Square Error for b0= 69 b1= 70 is:  10850395200976.766\n",
            "The Mean Square Error for b0= 70 b1= 71 is:  11159292243261.084\n",
            "The Mean Square Error for b0= 71 b1= 72 is:  11472524690397.229\n",
            "The Mean Square Error for b0= 72 b1= 73 is:  11790092542385.19\n",
            "The Mean Square Error for b0= 73 b1= 74 is:  12111995799224.979\n",
            "The Mean Square Error for b0= 74 b1= 75 is:  12438234460916.586\n",
            "The Mean Square Error for b0= 75 b1= 76 is:  12768808527460.018\n",
            "The Mean Square Error for b0= 76 b1= 77 is:  13103717998855.271\n",
            "The Mean Square Error for b0= 77 b1= 78 is:  13442962875102.346\n",
            "The Mean Square Error for b0= 78 b1= 79 is:  13786543156201.244\n",
            "The Mean Square Error for b0= 79 b1= 80 is:  14134458842151.96\n",
            "The Mean Square Error for b0= 80 b1= 81 is:  14486709932954.506\n",
            "The Mean Square Error for b0= 81 b1= 82 is:  14843296428608.87\n",
            "The Mean Square Error for b0= 82 b1= 83 is:  15204218329115.055\n",
            "The Mean Square Error for b0= 83 b1= 84 is:  15569475634473.066\n",
            "The Mean Square Error for b0= 84 b1= 85 is:  15939068344682.896\n",
            "The Mean Square Error for b0= 85 b1= 86 is:  16312996459744.549\n",
            "The Mean Square Error for b0= 86 b1= 87 is:  16691259979658.025\n",
            "The Mean Square Error for b0= 87 b1= 88 is:  17073858904423.324\n",
            "The Mean Square Error for b0= 88 b1= 89 is:  17460793234040.441\n",
            "The Mean Square Error for b0= 89 b1= 90 is:  17852062968509.387\n",
            "The Mean Square Error for b0= 90 b1= 91 is:  18247668107830.152\n",
            "The Mean Square Error for b0= 91 b1= 92 is:  18647608652002.74\n",
            "The Mean Square Error for b0= 92 b1= 93 is:  19051884601027.145\n",
            "The Mean Square Error for b0= 93 b1= 94 is:  19460495954903.38\n",
            "The Mean Square Error for b0= 94 b1= 95 is:  19873442713631.43\n",
            "The Mean Square Error for b0= 95 b1= 96 is:  20290724877211.305\n",
            "The Mean Square Error for b0= 96 b1= 97 is:  20712342445643.004\n",
            "The Mean Square Error for b0= 97 b1= 98 is:  21138295418926.52\n",
            "The Mean Square Error for b0= 98 b1= 99 is:  21568583797061.87\n",
            "The Mean Square Error for b0= 99 b1= 100 is:  22003207580049.03\n"
          ]
        }
      ]
    },
    {
      "cell_type": "code",
      "source": [
        "import matplotlib.pyplot as plt\n",
        "y = d1['YearsExperience']\n",
        "x=d1['Salary']\n",
        "plt.plot(x,y)"
      ],
      "metadata": {
        "colab": {
          "base_uri": "https://localhost:8080/",
          "height": 283
        },
        "id": "RaHdyHQB7MOK",
        "outputId": "5a902bbb-81b1-4bf1-e79c-704d89aebeb9"
      },
      "execution_count": null,
      "outputs": [
        {
          "output_type": "execute_result",
          "data": {
            "text/plain": [
              "[<matplotlib.lines.Line2D at 0x7f44b8a14ad0>]"
            ]
          },
          "metadata": {},
          "execution_count": 3
        },
        {
          "output_type": "display_data",
          "data": {
            "text/plain": [
              "<Figure size 432x288 with 1 Axes>"
            ],
            "image/png": "[encoded data removed]"
          },
          "metadata": {
            "needs_background": "light"
          }
        }
      ]
    }
  ]
}